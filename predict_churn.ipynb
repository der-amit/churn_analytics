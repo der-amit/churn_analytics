{
 "cells": [
  {
   "cell_type": "code",
   "execution_count": 105,
   "metadata": {},
   "outputs": [],
   "source": [
    "import pandas as pd\n",
    "import matplotlib.pyplot as plt\n",
    "import seaborn as sns\n",
    "\n"
   ]
  },
  {
   "cell_type": "code",
   "execution_count": 106,
   "metadata": {},
   "outputs": [],
   "source": [
    "df = pd.read_csv('/Users/amitmishra/churn_analytics/churn.csv')"
   ]
  },
  {
   "cell_type": "code",
   "execution_count": 107,
   "metadata": {},
   "outputs": [
    {
     "data": {
      "text/html": [
       "<div>\n",
       "<style scoped>\n",
       "    .dataframe tbody tr th:only-of-type {\n",
       "        vertical-align: middle;\n",
       "    }\n",
       "\n",
       "    .dataframe tbody tr th {\n",
       "        vertical-align: top;\n",
       "    }\n",
       "\n",
       "    .dataframe thead th {\n",
       "        text-align: right;\n",
       "    }\n",
       "</style>\n",
       "<table border=\"1\" class=\"dataframe\">\n",
       "  <thead>\n",
       "    <tr style=\"text-align: right;\">\n",
       "      <th></th>\n",
       "      <th>Account_Length</th>\n",
       "      <th>Vmail_Message</th>\n",
       "      <th>Day_Mins</th>\n",
       "      <th>Eve_Mins</th>\n",
       "      <th>Night_Mins</th>\n",
       "      <th>Intl_Mins</th>\n",
       "      <th>CustServ_Calls</th>\n",
       "      <th>Churn</th>\n",
       "      <th>Intl_Plan</th>\n",
       "      <th>Vmail_Plan</th>\n",
       "      <th>...</th>\n",
       "      <th>Day_Charge</th>\n",
       "      <th>Eve_Calls</th>\n",
       "      <th>Eve_Charge</th>\n",
       "      <th>Night_Calls</th>\n",
       "      <th>Night_Charge</th>\n",
       "      <th>Intl_Calls</th>\n",
       "      <th>Intl_Charge</th>\n",
       "      <th>State</th>\n",
       "      <th>Area_Code</th>\n",
       "      <th>Phone</th>\n",
       "    </tr>\n",
       "  </thead>\n",
       "  <tbody>\n",
       "    <tr>\n",
       "      <th>0</th>\n",
       "      <td>128</td>\n",
       "      <td>25</td>\n",
       "      <td>265.1</td>\n",
       "      <td>197.4</td>\n",
       "      <td>244.7</td>\n",
       "      <td>10.0</td>\n",
       "      <td>1</td>\n",
       "      <td>no</td>\n",
       "      <td>no</td>\n",
       "      <td>yes</td>\n",
       "      <td>...</td>\n",
       "      <td>45.07</td>\n",
       "      <td>99</td>\n",
       "      <td>16.78</td>\n",
       "      <td>91</td>\n",
       "      <td>11.01</td>\n",
       "      <td>3</td>\n",
       "      <td>2.70</td>\n",
       "      <td>KS</td>\n",
       "      <td>415</td>\n",
       "      <td>382-4657</td>\n",
       "    </tr>\n",
       "    <tr>\n",
       "      <th>1</th>\n",
       "      <td>107</td>\n",
       "      <td>26</td>\n",
       "      <td>161.6</td>\n",
       "      <td>195.5</td>\n",
       "      <td>254.4</td>\n",
       "      <td>13.7</td>\n",
       "      <td>1</td>\n",
       "      <td>no</td>\n",
       "      <td>no</td>\n",
       "      <td>yes</td>\n",
       "      <td>...</td>\n",
       "      <td>27.47</td>\n",
       "      <td>103</td>\n",
       "      <td>16.62</td>\n",
       "      <td>103</td>\n",
       "      <td>11.45</td>\n",
       "      <td>3</td>\n",
       "      <td>3.70</td>\n",
       "      <td>OH</td>\n",
       "      <td>415</td>\n",
       "      <td>371-7191</td>\n",
       "    </tr>\n",
       "    <tr>\n",
       "      <th>2</th>\n",
       "      <td>137</td>\n",
       "      <td>0</td>\n",
       "      <td>243.4</td>\n",
       "      <td>121.2</td>\n",
       "      <td>162.6</td>\n",
       "      <td>12.2</td>\n",
       "      <td>0</td>\n",
       "      <td>no</td>\n",
       "      <td>no</td>\n",
       "      <td>no</td>\n",
       "      <td>...</td>\n",
       "      <td>41.38</td>\n",
       "      <td>110</td>\n",
       "      <td>10.30</td>\n",
       "      <td>104</td>\n",
       "      <td>7.32</td>\n",
       "      <td>5</td>\n",
       "      <td>3.29</td>\n",
       "      <td>NJ</td>\n",
       "      <td>415</td>\n",
       "      <td>358-1921</td>\n",
       "    </tr>\n",
       "    <tr>\n",
       "      <th>3</th>\n",
       "      <td>84</td>\n",
       "      <td>0</td>\n",
       "      <td>299.4</td>\n",
       "      <td>61.9</td>\n",
       "      <td>196.9</td>\n",
       "      <td>6.6</td>\n",
       "      <td>2</td>\n",
       "      <td>no</td>\n",
       "      <td>yes</td>\n",
       "      <td>no</td>\n",
       "      <td>...</td>\n",
       "      <td>50.90</td>\n",
       "      <td>88</td>\n",
       "      <td>5.26</td>\n",
       "      <td>89</td>\n",
       "      <td>8.86</td>\n",
       "      <td>7</td>\n",
       "      <td>1.78</td>\n",
       "      <td>OH</td>\n",
       "      <td>408</td>\n",
       "      <td>375-9999</td>\n",
       "    </tr>\n",
       "    <tr>\n",
       "      <th>4</th>\n",
       "      <td>75</td>\n",
       "      <td>0</td>\n",
       "      <td>166.7</td>\n",
       "      <td>148.3</td>\n",
       "      <td>186.9</td>\n",
       "      <td>10.1</td>\n",
       "      <td>3</td>\n",
       "      <td>no</td>\n",
       "      <td>yes</td>\n",
       "      <td>no</td>\n",
       "      <td>...</td>\n",
       "      <td>28.34</td>\n",
       "      <td>122</td>\n",
       "      <td>12.61</td>\n",
       "      <td>121</td>\n",
       "      <td>8.41</td>\n",
       "      <td>3</td>\n",
       "      <td>2.73</td>\n",
       "      <td>OK</td>\n",
       "      <td>415</td>\n",
       "      <td>330-6626</td>\n",
       "    </tr>\n",
       "  </tbody>\n",
       "</table>\n",
       "<p>5 rows × 21 columns</p>\n",
       "</div>"
      ],
      "text/plain": [
       "   Account_Length  Vmail_Message  Day_Mins  Eve_Mins  Night_Mins  Intl_Mins  \\\n",
       "0             128             25     265.1     197.4       244.7       10.0   \n",
       "1             107             26     161.6     195.5       254.4       13.7   \n",
       "2             137              0     243.4     121.2       162.6       12.2   \n",
       "3              84              0     299.4      61.9       196.9        6.6   \n",
       "4              75              0     166.7     148.3       186.9       10.1   \n",
       "\n",
       "   CustServ_Calls Churn Intl_Plan Vmail_Plan  ...  Day_Charge  Eve_Calls  \\\n",
       "0               1    no        no        yes  ...       45.07         99   \n",
       "1               1    no        no        yes  ...       27.47        103   \n",
       "2               0    no        no         no  ...       41.38        110   \n",
       "3               2    no       yes         no  ...       50.90         88   \n",
       "4               3    no       yes         no  ...       28.34        122   \n",
       "\n",
       "   Eve_Charge  Night_Calls  Night_Charge  Intl_Calls  Intl_Charge  State  \\\n",
       "0       16.78           91         11.01           3         2.70     KS   \n",
       "1       16.62          103         11.45           3         3.70     OH   \n",
       "2       10.30          104          7.32           5         3.29     NJ   \n",
       "3        5.26           89          8.86           7         1.78     OH   \n",
       "4       12.61          121          8.41           3         2.73     OK   \n",
       "\n",
       "  Area_Code     Phone  \n",
       "0       415  382-4657  \n",
       "1       415  371-7191  \n",
       "2       415  358-1921  \n",
       "3       408  375-9999  \n",
       "4       415  330-6626  \n",
       "\n",
       "[5 rows x 21 columns]"
      ]
     },
     "execution_count": 107,
     "metadata": {},
     "output_type": "execute_result"
    }
   ],
   "source": [
    "df.head()"
   ]
  },
  {
   "cell_type": "code",
   "execution_count": 108,
   "metadata": {},
   "outputs": [
    {
     "name": "stdout",
     "output_type": "stream",
     "text": [
      "<class 'pandas.core.frame.DataFrame'>\n",
      "RangeIndex: 3333 entries, 0 to 3332\n",
      "Data columns (total 21 columns):\n",
      " #   Column          Non-Null Count  Dtype  \n",
      "---  ------          --------------  -----  \n",
      " 0   Account_Length  3333 non-null   int64  \n",
      " 1   Vmail_Message   3333 non-null   int64  \n",
      " 2   Day_Mins        3333 non-null   float64\n",
      " 3   Eve_Mins        3333 non-null   float64\n",
      " 4   Night_Mins      3333 non-null   float64\n",
      " 5   Intl_Mins       3333 non-null   float64\n",
      " 6   CustServ_Calls  3333 non-null   int64  \n",
      " 7   Churn           3333 non-null   object \n",
      " 8   Intl_Plan       3333 non-null   object \n",
      " 9   Vmail_Plan      3333 non-null   object \n",
      " 10  Day_Calls       3333 non-null   int64  \n",
      " 11  Day_Charge      3333 non-null   float64\n",
      " 12  Eve_Calls       3333 non-null   int64  \n",
      " 13  Eve_Charge      3333 non-null   float64\n",
      " 14  Night_Calls     3333 non-null   int64  \n",
      " 15  Night_Charge    3333 non-null   float64\n",
      " 16  Intl_Calls      3333 non-null   int64  \n",
      " 17  Intl_Charge     3333 non-null   float64\n",
      " 18  State           3333 non-null   object \n",
      " 19  Area_Code       3333 non-null   int64  \n",
      " 20  Phone           3333 non-null   object \n",
      "dtypes: float64(8), int64(8), object(5)\n",
      "memory usage: 546.9+ KB\n"
     ]
    }
   ],
   "source": [
    "df.info()"
   ]
  },
  {
   "cell_type": "code",
   "execution_count": 109,
   "metadata": {},
   "outputs": [
    {
     "name": "stdout",
     "output_type": "stream",
     "text": [
      "no     2850\n",
      "yes     483\n",
      "Name: Churn, dtype: int64\n"
     ]
    }
   ],
   "source": [
    "print(df['Churn'].value_counts())"
   ]
  },
  {
   "cell_type": "code",
   "execution_count": 110,
   "metadata": {},
   "outputs": [],
   "source": [
    "#Hence mode has two classes. Whether a customer will churn or not churn"
   ]
  },
  {
   "cell_type": "code",
   "execution_count": 111,
   "metadata": {},
   "outputs": [],
   "source": [
    "#Questions to ask: does one state have more churners than the other\n"
   ]
  },
  {
   "cell_type": "code",
   "execution_count": 112,
   "metadata": {},
   "outputs": [
    {
     "data": {
      "text/plain": [
       "Index(['Account_Length', 'Vmail_Message', 'Day_Mins', 'Eve_Mins', 'Night_Mins',\n",
       "       'Intl_Mins', 'CustServ_Calls', 'Churn', 'Intl_Plan', 'Vmail_Plan',\n",
       "       'Day_Calls', 'Day_Charge', 'Eve_Calls', 'Eve_Charge', 'Night_Calls',\n",
       "       'Night_Charge', 'Intl_Calls', 'Intl_Charge', 'State', 'Area_Code',\n",
       "       'Phone'],\n",
       "      dtype='object')"
      ]
     },
     "execution_count": 112,
     "metadata": {},
     "output_type": "execute_result"
    }
   ],
   "source": [
    "df.columns"
   ]
  },
  {
   "cell_type": "code",
   "execution_count": 113,
   "metadata": {},
   "outputs": [
    {
     "name": "stdout",
     "output_type": "stream",
     "text": [
      "       Account_Length  Vmail_Message    Day_Mins    Eve_Mins  Night_Mins  \\\n",
      "Churn                                                                      \n",
      "no         100.793684       8.604561  175.175754  199.043298  200.133193   \n",
      "yes        102.664596       5.115942  206.914079  212.410145  205.231677   \n",
      "\n",
      "       Intl_Mins  CustServ_Calls   Day_Calls  Day_Charge   Eve_Calls  \\\n",
      "Churn                                                                  \n",
      "no     10.158877        1.449825  100.283158   29.780421  100.038596   \n",
      "yes    10.700000        2.229814  101.335404   35.175921  100.561077   \n",
      "\n",
      "       Eve_Charge  Night_Calls  Night_Charge  Intl_Calls  Intl_Charge  \\\n",
      "Churn                                                                   \n",
      "no      16.918909   100.058246      9.006074    4.532982     2.743404   \n",
      "yes     18.054969   100.399586      9.235528    4.163561     2.889545   \n",
      "\n",
      "        Area_Code  \n",
      "Churn              \n",
      "no     437.074737  \n",
      "yes    437.817805  \n"
     ]
    },
    {
     "name": "stderr",
     "output_type": "stream",
     "text": [
      "/var/folders/85/d_fv83j92kq22pp6q4hcdzmh0000gp/T/ipykernel_34487/1780977777.py:1: FutureWarning: The default value of numeric_only in DataFrameGroupBy.mean is deprecated. In a future version, numeric_only will default to False. Either specify numeric_only or select only columns which should be valid for the function.\n",
      "  print(df.groupby(['Churn']).mean())\n"
     ]
    }
   ],
   "source": [
    "print(df.groupby(['Churn']).mean())"
   ]
  },
  {
   "cell_type": "code",
   "execution_count": 114,
   "metadata": {},
   "outputs": [
    {
     "name": "stdout",
     "output_type": "stream",
     "text": [
      "       Account_Length  Vmail_Message   Day_Mins   Eve_Mins  Night_Mins  \\\n",
      "Churn                                                                    \n",
      "no           39.88235      13.913125  50.181655  50.292175   51.105032   \n",
      "yes          39.46782      11.860138  68.997792  51.728910   47.132825   \n",
      "\n",
      "       Intl_Mins  CustServ_Calls  Day_Calls  Day_Charge  Eve_Calls  \\\n",
      "Churn                                                                \n",
      "no      2.784489        1.163883  19.801157    8.530835  19.958414   \n",
      "yes     2.793190        1.853275  21.582307   11.729710  19.724711   \n",
      "\n",
      "       Eve_Charge  Night_Calls  Night_Charge  Intl_Calls  Intl_Charge  \\\n",
      "Churn                                                                   \n",
      "no       4.274863    19.506246      2.299768    2.441984     0.751784   \n",
      "yes      4.396762    19.950659      2.121081    2.551575     0.754152   \n",
      "\n",
      "       Area_Code  \n",
      "Churn             \n",
      "no     42.306156  \n",
      "yes    42.792270  \n"
     ]
    },
    {
     "name": "stderr",
     "output_type": "stream",
     "text": [
      "/var/folders/85/d_fv83j92kq22pp6q4hcdzmh0000gp/T/ipykernel_34487/3517040024.py:1: FutureWarning: The default value of numeric_only in DataFrameGroupBy.std is deprecated. In a future version, numeric_only will default to False. Either specify numeric_only or select only columns which should be valid for the function.\n",
      "  print(df.groupby(['Churn']).std())\n"
     ]
    }
   ],
   "source": [
    "print(df.groupby(['Churn']).std())"
   ]
  },
  {
   "cell_type": "code",
   "execution_count": 115,
   "metadata": {},
   "outputs": [],
   "source": [
    "#Unsurprisingly, churners seem to make more customer service calls than non-churners."
   ]
  },
  {
   "cell_type": "code",
   "execution_count": 116,
   "metadata": {},
   "outputs": [
    {
     "name": "stdout",
     "output_type": "stream",
     "text": [
      "State  Churn\n",
      "AK     no       49\n",
      "       yes       3\n",
      "AL     no       72\n",
      "       yes       8\n",
      "AR     no       44\n",
      "                ..\n",
      "WI     yes       7\n",
      "WV     no       96\n",
      "       yes      10\n",
      "WY     no       68\n",
      "       yes       9\n",
      "Name: Churn, Length: 102, dtype: int64\n"
     ]
    }
   ],
   "source": [
    "#Counting the number of churners and non churners by state\n",
    "print(df.groupby(['State'])['Churn'].value_counts())"
   ]
  },
  {
   "cell_type": "code",
   "execution_count": 117,
   "metadata": {},
   "outputs": [
    {
     "name": "stdout",
     "output_type": "stream",
     "text": [
      "State  Churn\n",
      "AK     no       49\n",
      "       yes       3\n",
      "AL     no       72\n",
      "       yes       8\n",
      "AR     no       44\n",
      "                ..\n",
      "WI     yes       7\n",
      "WV     no       96\n",
      "       yes      10\n",
      "WY     no       68\n",
      "       yes       9\n",
      "Name: Churn, Length: 102, dtype: int64\n"
     ]
    }
   ],
   "source": [
    "#Counting the number of churners and non churners by state\n",
    "print(df.groupby(['State'])['Churn'].value_counts())"
   ]
  },
  {
   "cell_type": "code",
   "execution_count": 118,
   "metadata": {},
   "outputs": [
    {
     "data": {
      "text/plain": [
       "no     25\n",
       "yes     9\n",
       "Name: Churn, dtype: int64"
      ]
     },
     "execution_count": 118,
     "metadata": {},
     "output_type": "execute_result"
    }
   ],
   "source": [
    "df[df['State'] == 'CA']['Churn'].value_counts()"
   ]
  },
  {
   "cell_type": "code",
   "execution_count": 119,
   "metadata": {},
   "outputs": [
    {
     "data": {
      "text/plain": [
       "no     54\n",
       "yes    18\n",
       "Name: Churn, dtype: int64"
      ]
     },
     "execution_count": 119,
     "metadata": {},
     "output_type": "execute_result"
    }
   ],
   "source": [
    "df[df['State'] == 'TX']['Churn'].value_counts()"
   ]
  },
  {
   "cell_type": "code",
   "execution_count": 120,
   "metadata": {},
   "outputs": [],
   "source": [
    "#Note that TX as doublt the amount of churners compared to CA but the percentage is actually lower (<30%)"
   ]
  },
  {
   "cell_type": "code",
   "execution_count": 121,
   "metadata": {},
   "outputs": [
    {
     "data": {
      "image/png": "[encoded data removed]",
      "text/plain": [
       "<Figure size 640x480 with 1 Axes>"
      ]
     },
     "metadata": {},
     "output_type": "display_data"
    }
   ],
   "source": [
    "sns.boxplot(x = df['Churn'], y = df['Account_Length'])\n",
    "plt.show()"
   ]
  },
  {
   "cell_type": "code",
   "execution_count": 122,
   "metadata": {},
   "outputs": [],
   "source": [
    "#No noticeable difference in the account length"
   ]
  },
  {
   "cell_type": "code",
   "execution_count": 123,
   "metadata": {},
   "outputs": [
    {
     "data": {
      "image/png": "[encoded data removed]",
      "text/plain": [
       "<Figure size 500x500 with 1 Axes>"
      ]
     },
     "metadata": {},
     "output_type": "display_data"
    },
    {
     "data": {
      "image/png": "[encoded data removed]",
      "text/plain": [
       "<Figure size 500x500 with 1 Axes>"
      ]
     },
     "metadata": {},
     "output_type": "display_data"
    },
    {
     "data": {
      "image/png": "[encoded data removed]",
      "text/plain": [
       "<Figure size 500x500 with 1 Axes>"
      ]
     },
     "metadata": {},
     "output_type": "display_data"
    },
    {
     "data": {
      "image/png": "[encoded data removed]",
      "text/plain": [
       "<Figure size 500x500 with 1 Axes>"
      ]
     },
     "metadata": {},
     "output_type": "display_data"
    },
    {
     "data": {
      "image/png": "[encoded data removed]",
      "text/plain": [
       "<Figure size 500x500 with 1 Axes>"
      ]
     },
     "metadata": {},
     "output_type": "display_data"
    }
   ],
   "source": [
    "\n",
    "col = ['Day_Mins',\n",
    "'Eve_Mins',\n",
    "'Night_Mins',\n",
    "'Intl_Mins',\n",
    "'Account_Length']\n",
    "# Visualize the distribution of 'Day_Mins'\n",
    "\n",
    "for k in col:\n",
    "    sns.displot(df[k])\n",
    "\n",
    "    # Display the plot\n",
    "    plt.show()"
   ]
  },
  {
   "cell_type": "code",
   "execution_count": 124,
   "metadata": {},
   "outputs": [],
   "source": [
    "#All of these features appear to be well approximated by the normal distribution"
   ]
  },
  {
   "cell_type": "code",
   "execution_count": 125,
   "metadata": {},
   "outputs": [
    {
     "data": {
      "image/png": "[encoded data removed]",
      "text/plain": [
       "<Figure size 640x480 with 1 Axes>"
      ]
     },
     "metadata": {},
     "output_type": "display_data"
    }
   ],
   "source": [
    "# Create the box plot of churn and customer service calls\n",
    "sns.boxplot(x = df['Churn'], y = df['CustServ_Calls'], sym = '', hue = df['Vmail_Plan'])\n",
    "plt.show()"
   ]
  },
  {
   "cell_type": "code",
   "execution_count": 126,
   "metadata": {},
   "outputs": [
    {
     "data": {
      "image/png": "[encoded data removed]",
      "text/plain": [
       "<Figure size 640x480 with 1 Axes>"
      ]
     },
     "metadata": {},
     "output_type": "display_data"
    }
   ],
   "source": [
    "sns.boxplot(x = df['Churn'], y = df['CustServ_Calls'], sym = '', hue = df['Intl_Plan'])\n",
    "plt.show()"
   ]
  },
  {
   "cell_type": "code",
   "execution_count": 127,
   "metadata": {},
   "outputs": [
    {
     "data": {
      "text/plain": [
       "' It looks like customers who do churn end up leaving more customer service calls, \\nunless these customers also have an international plan, in which case they leave fewer customer service calls. '"
      ]
     },
     "execution_count": 127,
     "metadata": {},
     "output_type": "execute_result"
    }
   ],
   "source": [
    "''' It looks like customers who do churn end up leaving more customer service calls, \n",
    "unless these customers also have an international plan, in which case they leave fewer customer service calls. '''"
   ]
  },
  {
   "cell_type": "code",
   "execution_count": 128,
   "metadata": {},
   "outputs": [],
   "source": [
    "### Data Processing"
   ]
  },
  {
   "cell_type": "code",
   "execution_count": 129,
   "metadata": {},
   "outputs": [
    {
     "data": {
      "text/plain": [
       "Account_Length      int64\n",
       "Vmail_Message       int64\n",
       "Day_Mins          float64\n",
       "Eve_Mins          float64\n",
       "Night_Mins        float64\n",
       "Intl_Mins         float64\n",
       "CustServ_Calls      int64\n",
       "Churn              object\n",
       "Intl_Plan          object\n",
       "Vmail_Plan         object\n",
       "Day_Calls           int64\n",
       "Day_Charge        float64\n",
       "Eve_Calls           int64\n",
       "Eve_Charge        float64\n",
       "Night_Calls         int64\n",
       "Night_Charge      float64\n",
       "Intl_Calls          int64\n",
       "Intl_Charge       float64\n",
       "State              object\n",
       "Area_Code           int64\n",
       "Phone              object\n",
       "dtype: object"
      ]
     },
     "execution_count": 129,
     "metadata": {},
     "output_type": "execute_result"
    }
   ],
   "source": [
    "df.dtypes"
   ]
  },
  {
   "cell_type": "code",
   "execution_count": 130,
   "metadata": {},
   "outputs": [],
   "source": [
    "df['Vmail_Plan'] = df['Vmail_Plan'].replace({'no':0, 'yes':1})\n",
    "df['Churn'] = df['Churn'].replace({'no':0, 'yes':1})"
   ]
  },
  {
   "cell_type": "code",
   "execution_count": 131,
   "metadata": {},
   "outputs": [],
   "source": [
    "#We'll encode states using one-hot encoding, for binary features and not ordered features."
   ]
  },
  {
   "cell_type": "code",
   "execution_count": null,
   "metadata": {},
   "outputs": [],
   "source": []
  },
  {
   "cell_type": "code",
   "execution_count": 132,
   "metadata": {},
   "outputs": [],
   "source": [
    "### Feature scaling using standardization "
   ]
  },
  {
   "cell_type": "code",
   "execution_count": 133,
   "metadata": {},
   "outputs": [],
   "source": [
    "from sklearn.preprocessing import StandardScaler"
   ]
  },
  {
   "cell_type": "code",
   "execution_count": 134,
   "metadata": {},
   "outputs": [
    {
     "data": {
      "text/html": [
       "<div>\n",
       "<style scoped>\n",
       "    .dataframe tbody tr th:only-of-type {\n",
       "        vertical-align: middle;\n",
       "    }\n",
       "\n",
       "    .dataframe tbody tr th {\n",
       "        vertical-align: top;\n",
       "    }\n",
       "\n",
       "    .dataframe thead th {\n",
       "        text-align: right;\n",
       "    }\n",
       "</style>\n",
       "<table border=\"1\" class=\"dataframe\">\n",
       "  <thead>\n",
       "    <tr style=\"text-align: right;\">\n",
       "      <th></th>\n",
       "      <th>Intl_Calls</th>\n",
       "      <th>Night_Mins</th>\n",
       "    </tr>\n",
       "  </thead>\n",
       "  <tbody>\n",
       "    <tr>\n",
       "      <th>0</th>\n",
       "      <td>3</td>\n",
       "      <td>244.7</td>\n",
       "    </tr>\n",
       "    <tr>\n",
       "      <th>1</th>\n",
       "      <td>3</td>\n",
       "      <td>254.4</td>\n",
       "    </tr>\n",
       "    <tr>\n",
       "      <th>2</th>\n",
       "      <td>5</td>\n",
       "      <td>162.6</td>\n",
       "    </tr>\n",
       "    <tr>\n",
       "      <th>3</th>\n",
       "      <td>7</td>\n",
       "      <td>196.9</td>\n",
       "    </tr>\n",
       "    <tr>\n",
       "      <th>4</th>\n",
       "      <td>3</td>\n",
       "      <td>186.9</td>\n",
       "    </tr>\n",
       "  </tbody>\n",
       "</table>\n",
       "</div>"
      ],
      "text/plain": [
       "   Intl_Calls  Night_Mins\n",
       "0           3       244.7\n",
       "1           3       254.4\n",
       "2           5       162.6\n",
       "3           7       196.9\n",
       "4           3       186.9"
      ]
     },
     "execution_count": 134,
     "metadata": {},
     "output_type": "execute_result"
    }
   ],
   "source": [
    "mycols = ['Intl_Calls', 'Night_Mins']\n",
    "df2 = df[mycols]\n",
    "df2.head()"
   ]
  },
  {
   "cell_type": "code",
   "execution_count": 135,
   "metadata": {},
   "outputs": [],
   "source": [
    "df2_scaled = StandardScaler().fit_transform(df2)\n",
    "df2_scaled = pd.DataFrame(df2_scaled, columns = ['Intl_Calls', 'Night_Mins'])"
   ]
  },
  {
   "cell_type": "code",
   "execution_count": 136,
   "metadata": {},
   "outputs": [
    {
     "data": {
      "text/html": [
       "<div>\n",
       "<style scoped>\n",
       "    .dataframe tbody tr th:only-of-type {\n",
       "        vertical-align: middle;\n",
       "    }\n",
       "\n",
       "    .dataframe tbody tr th {\n",
       "        vertical-align: top;\n",
       "    }\n",
       "\n",
       "    .dataframe thead th {\n",
       "        text-align: right;\n",
       "    }\n",
       "</style>\n",
       "<table border=\"1\" class=\"dataframe\">\n",
       "  <thead>\n",
       "    <tr style=\"text-align: right;\">\n",
       "      <th></th>\n",
       "      <th>Intl_Calls</th>\n",
       "      <th>Night_Mins</th>\n",
       "    </tr>\n",
       "  </thead>\n",
       "  <tbody>\n",
       "    <tr>\n",
       "      <th>0</th>\n",
       "      <td>-0.601195</td>\n",
       "      <td>0.866743</td>\n",
       "    </tr>\n",
       "    <tr>\n",
       "      <th>1</th>\n",
       "      <td>-0.601195</td>\n",
       "      <td>1.058571</td>\n",
       "    </tr>\n",
       "    <tr>\n",
       "      <th>2</th>\n",
       "      <td>0.211534</td>\n",
       "      <td>-0.756869</td>\n",
       "    </tr>\n",
       "    <tr>\n",
       "      <th>3</th>\n",
       "      <td>1.024263</td>\n",
       "      <td>-0.078551</td>\n",
       "    </tr>\n",
       "    <tr>\n",
       "      <th>4</th>\n",
       "      <td>-0.601195</td>\n",
       "      <td>-0.276311</td>\n",
       "    </tr>\n",
       "  </tbody>\n",
       "</table>\n",
       "</div>"
      ],
      "text/plain": [
       "   Intl_Calls  Night_Mins\n",
       "0   -0.601195    0.866743\n",
       "1   -0.601195    1.058571\n",
       "2    0.211534   -0.756869\n",
       "3    1.024263   -0.078551\n",
       "4   -0.601195   -0.276311"
      ]
     },
     "execution_count": 136,
     "metadata": {},
     "output_type": "execute_result"
    }
   ],
   "source": [
    "df2_scaled.head()"
   ]
  },
  {
   "cell_type": "code",
   "execution_count": 137,
   "metadata": {},
   "outputs": [],
   "source": [
    "### Feature selection"
   ]
  },
  {
   "cell_type": "code",
   "execution_count": 138,
   "metadata": {},
   "outputs": [],
   "source": [
    "mydf = df.drop(['Area_Code', 'State', 'Phone'], axis = 1)"
   ]
  },
  {
   "cell_type": "code",
   "execution_count": 139,
   "metadata": {},
   "outputs": [],
   "source": [
    "mydf['Intl_Plan'] = mydf['Intl_Plan'].replace({'no':0, 'yes':1})"
   ]
  },
  {
   "cell_type": "code",
   "execution_count": 140,
   "metadata": {},
   "outputs": [
    {
     "data": {
      "text/html": [
       "<div>\n",
       "<style scoped>\n",
       "    .dataframe tbody tr th:only-of-type {\n",
       "        vertical-align: middle;\n",
       "    }\n",
       "\n",
       "    .dataframe tbody tr th {\n",
       "        vertical-align: top;\n",
       "    }\n",
       "\n",
       "    .dataframe thead th {\n",
       "        text-align: right;\n",
       "    }\n",
       "</style>\n",
       "<table border=\"1\" class=\"dataframe\">\n",
       "  <thead>\n",
       "    <tr style=\"text-align: right;\">\n",
       "      <th></th>\n",
       "      <th>Account_Length</th>\n",
       "      <th>Vmail_Message</th>\n",
       "      <th>Day_Mins</th>\n",
       "      <th>Eve_Mins</th>\n",
       "      <th>Night_Mins</th>\n",
       "      <th>Intl_Mins</th>\n",
       "      <th>CustServ_Calls</th>\n",
       "      <th>Churn</th>\n",
       "      <th>Intl_Plan</th>\n",
       "      <th>Vmail_Plan</th>\n",
       "      <th>Day_Calls</th>\n",
       "      <th>Day_Charge</th>\n",
       "      <th>Eve_Calls</th>\n",
       "      <th>Eve_Charge</th>\n",
       "      <th>Night_Calls</th>\n",
       "      <th>Night_Charge</th>\n",
       "      <th>Intl_Calls</th>\n",
       "      <th>Intl_Charge</th>\n",
       "    </tr>\n",
       "  </thead>\n",
       "  <tbody>\n",
       "    <tr>\n",
       "      <th>0</th>\n",
       "      <td>128</td>\n",
       "      <td>25</td>\n",
       "      <td>265.1</td>\n",
       "      <td>197.4</td>\n",
       "      <td>244.7</td>\n",
       "      <td>10.0</td>\n",
       "      <td>1</td>\n",
       "      <td>0</td>\n",
       "      <td>0</td>\n",
       "      <td>1</td>\n",
       "      <td>110</td>\n",
       "      <td>45.07</td>\n",
       "      <td>99</td>\n",
       "      <td>16.78</td>\n",
       "      <td>91</td>\n",
       "      <td>11.01</td>\n",
       "      <td>3</td>\n",
       "      <td>2.70</td>\n",
       "    </tr>\n",
       "    <tr>\n",
       "      <th>1</th>\n",
       "      <td>107</td>\n",
       "      <td>26</td>\n",
       "      <td>161.6</td>\n",
       "      <td>195.5</td>\n",
       "      <td>254.4</td>\n",
       "      <td>13.7</td>\n",
       "      <td>1</td>\n",
       "      <td>0</td>\n",
       "      <td>0</td>\n",
       "      <td>1</td>\n",
       "      <td>123</td>\n",
       "      <td>27.47</td>\n",
       "      <td>103</td>\n",
       "      <td>16.62</td>\n",
       "      <td>103</td>\n",
       "      <td>11.45</td>\n",
       "      <td>3</td>\n",
       "      <td>3.70</td>\n",
       "    </tr>\n",
       "    <tr>\n",
       "      <th>2</th>\n",
       "      <td>137</td>\n",
       "      <td>0</td>\n",
       "      <td>243.4</td>\n",
       "      <td>121.2</td>\n",
       "      <td>162.6</td>\n",
       "      <td>12.2</td>\n",
       "      <td>0</td>\n",
       "      <td>0</td>\n",
       "      <td>0</td>\n",
       "      <td>0</td>\n",
       "      <td>114</td>\n",
       "      <td>41.38</td>\n",
       "      <td>110</td>\n",
       "      <td>10.30</td>\n",
       "      <td>104</td>\n",
       "      <td>7.32</td>\n",
       "      <td>5</td>\n",
       "      <td>3.29</td>\n",
       "    </tr>\n",
       "    <tr>\n",
       "      <th>3</th>\n",
       "      <td>84</td>\n",
       "      <td>0</td>\n",
       "      <td>299.4</td>\n",
       "      <td>61.9</td>\n",
       "      <td>196.9</td>\n",
       "      <td>6.6</td>\n",
       "      <td>2</td>\n",
       "      <td>0</td>\n",
       "      <td>1</td>\n",
       "      <td>0</td>\n",
       "      <td>71</td>\n",
       "      <td>50.90</td>\n",
       "      <td>88</td>\n",
       "      <td>5.26</td>\n",
       "      <td>89</td>\n",
       "      <td>8.86</td>\n",
       "      <td>7</td>\n",
       "      <td>1.78</td>\n",
       "    </tr>\n",
       "    <tr>\n",
       "      <th>4</th>\n",
       "      <td>75</td>\n",
       "      <td>0</td>\n",
       "      <td>166.7</td>\n",
       "      <td>148.3</td>\n",
       "      <td>186.9</td>\n",
       "      <td>10.1</td>\n",
       "      <td>3</td>\n",
       "      <td>0</td>\n",
       "      <td>1</td>\n",
       "      <td>0</td>\n",
       "      <td>113</td>\n",
       "      <td>28.34</td>\n",
       "      <td>122</td>\n",
       "      <td>12.61</td>\n",
       "      <td>121</td>\n",
       "      <td>8.41</td>\n",
       "      <td>3</td>\n",
       "      <td>2.73</td>\n",
       "    </tr>\n",
       "  </tbody>\n",
       "</table>\n",
       "</div>"
      ],
      "text/plain": [
       "   Account_Length  Vmail_Message  Day_Mins  Eve_Mins  Night_Mins  Intl_Mins  \\\n",
       "0             128             25     265.1     197.4       244.7       10.0   \n",
       "1             107             26     161.6     195.5       254.4       13.7   \n",
       "2             137              0     243.4     121.2       162.6       12.2   \n",
       "3              84              0     299.4      61.9       196.9        6.6   \n",
       "4              75              0     166.7     148.3       186.9       10.1   \n",
       "\n",
       "   CustServ_Calls  Churn  Intl_Plan  Vmail_Plan  Day_Calls  Day_Charge  \\\n",
       "0               1      0          0           1        110       45.07   \n",
       "1               1      0          0           1        123       27.47   \n",
       "2               0      0          0           0        114       41.38   \n",
       "3               2      0          1           0         71       50.90   \n",
       "4               3      0          1           0        113       28.34   \n",
       "\n",
       "   Eve_Calls  Eve_Charge  Night_Calls  Night_Charge  Intl_Calls  Intl_Charge  \n",
       "0         99       16.78           91         11.01           3         2.70  \n",
       "1        103       16.62          103         11.45           3         3.70  \n",
       "2        110       10.30          104          7.32           5         3.29  \n",
       "3         88        5.26           89          8.86           7         1.78  \n",
       "4        122       12.61          121          8.41           3         2.73  "
      ]
     },
     "execution_count": 140,
     "metadata": {},
     "output_type": "execute_result"
    }
   ],
   "source": [
    "mydf.head()"
   ]
  },
  {
   "cell_type": "code",
   "execution_count": 141,
   "metadata": {},
   "outputs": [
    {
     "data": {
      "text/html": [
       "<div>\n",
       "<style scoped>\n",
       "    .dataframe tbody tr th:only-of-type {\n",
       "        vertical-align: middle;\n",
       "    }\n",
       "\n",
       "    .dataframe tbody tr th {\n",
       "        vertical-align: top;\n",
       "    }\n",
       "\n",
       "    .dataframe thead th {\n",
       "        text-align: right;\n",
       "    }\n",
       "</style>\n",
       "<table border=\"1\" class=\"dataframe\">\n",
       "  <thead>\n",
       "    <tr style=\"text-align: right;\">\n",
       "      <th></th>\n",
       "      <th>Account_Length</th>\n",
       "      <th>Vmail_Message</th>\n",
       "      <th>Day_Mins</th>\n",
       "      <th>Eve_Mins</th>\n",
       "      <th>Night_Mins</th>\n",
       "      <th>Intl_Mins</th>\n",
       "      <th>CustServ_Calls</th>\n",
       "      <th>Churn</th>\n",
       "      <th>Intl_Plan</th>\n",
       "      <th>Vmail_Plan</th>\n",
       "      <th>Day_Calls</th>\n",
       "      <th>Day_Charge</th>\n",
       "      <th>Eve_Calls</th>\n",
       "      <th>Eve_Charge</th>\n",
       "      <th>Night_Calls</th>\n",
       "      <th>Night_Charge</th>\n",
       "      <th>Intl_Calls</th>\n",
       "      <th>Intl_Charge</th>\n",
       "    </tr>\n",
       "  </thead>\n",
       "  <tbody>\n",
       "    <tr>\n",
       "      <th>Account_Length</th>\n",
       "      <td>1.000000</td>\n",
       "      <td>-0.004628</td>\n",
       "      <td>0.006216</td>\n",
       "      <td>-0.006757</td>\n",
       "      <td>-0.008955</td>\n",
       "      <td>0.009514</td>\n",
       "      <td>-0.003796</td>\n",
       "      <td>0.016541</td>\n",
       "      <td>0.024735</td>\n",
       "      <td>0.002918</td>\n",
       "      <td>0.038470</td>\n",
       "      <td>0.006214</td>\n",
       "      <td>0.019260</td>\n",
       "      <td>-0.006745</td>\n",
       "      <td>-0.013176</td>\n",
       "      <td>-0.008960</td>\n",
       "      <td>0.020661</td>\n",
       "      <td>0.009546</td>\n",
       "    </tr>\n",
       "    <tr>\n",
       "      <th>Vmail_Message</th>\n",
       "      <td>-0.004628</td>\n",
       "      <td>1.000000</td>\n",
       "      <td>0.000778</td>\n",
       "      <td>0.017562</td>\n",
       "      <td>0.007681</td>\n",
       "      <td>0.002856</td>\n",
       "      <td>-0.013263</td>\n",
       "      <td>-0.089728</td>\n",
       "      <td>0.008745</td>\n",
       "      <td>0.956927</td>\n",
       "      <td>-0.009548</td>\n",
       "      <td>0.000776</td>\n",
       "      <td>-0.005864</td>\n",
       "      <td>0.017578</td>\n",
       "      <td>0.007123</td>\n",
       "      <td>0.007663</td>\n",
       "      <td>0.013957</td>\n",
       "      <td>0.002884</td>\n",
       "    </tr>\n",
       "    <tr>\n",
       "      <th>Day_Mins</th>\n",
       "      <td>0.006216</td>\n",
       "      <td>0.000778</td>\n",
       "      <td>1.000000</td>\n",
       "      <td>0.007043</td>\n",
       "      <td>0.004323</td>\n",
       "      <td>-0.010155</td>\n",
       "      <td>-0.013423</td>\n",
       "      <td>0.205151</td>\n",
       "      <td>0.049396</td>\n",
       "      <td>-0.001684</td>\n",
       "      <td>0.006750</td>\n",
       "      <td>1.000000</td>\n",
       "      <td>0.015769</td>\n",
       "      <td>0.007029</td>\n",
       "      <td>0.022972</td>\n",
       "      <td>0.004300</td>\n",
       "      <td>0.008033</td>\n",
       "      <td>-0.010092</td>\n",
       "    </tr>\n",
       "    <tr>\n",
       "      <th>Eve_Mins</th>\n",
       "      <td>-0.006757</td>\n",
       "      <td>0.017562</td>\n",
       "      <td>0.007043</td>\n",
       "      <td>1.000000</td>\n",
       "      <td>-0.012584</td>\n",
       "      <td>-0.011035</td>\n",
       "      <td>-0.012985</td>\n",
       "      <td>0.092796</td>\n",
       "      <td>0.019100</td>\n",
       "      <td>0.021545</td>\n",
       "      <td>-0.021451</td>\n",
       "      <td>0.007050</td>\n",
       "      <td>-0.011430</td>\n",
       "      <td>1.000000</td>\n",
       "      <td>0.007586</td>\n",
       "      <td>-0.012593</td>\n",
       "      <td>0.002541</td>\n",
       "      <td>-0.011067</td>\n",
       "    </tr>\n",
       "    <tr>\n",
       "      <th>Night_Mins</th>\n",
       "      <td>-0.008955</td>\n",
       "      <td>0.007681</td>\n",
       "      <td>0.004323</td>\n",
       "      <td>-0.012584</td>\n",
       "      <td>1.000000</td>\n",
       "      <td>-0.015207</td>\n",
       "      <td>-0.009288</td>\n",
       "      <td>0.035493</td>\n",
       "      <td>-0.028905</td>\n",
       "      <td>0.006079</td>\n",
       "      <td>0.022938</td>\n",
       "      <td>0.004324</td>\n",
       "      <td>-0.002093</td>\n",
       "      <td>-0.012592</td>\n",
       "      <td>0.011204</td>\n",
       "      <td>0.999999</td>\n",
       "      <td>-0.012353</td>\n",
       "      <td>-0.015180</td>\n",
       "    </tr>\n",
       "    <tr>\n",
       "      <th>Intl_Mins</th>\n",
       "      <td>0.009514</td>\n",
       "      <td>0.002856</td>\n",
       "      <td>-0.010155</td>\n",
       "      <td>-0.011035</td>\n",
       "      <td>-0.015207</td>\n",
       "      <td>1.000000</td>\n",
       "      <td>-0.009640</td>\n",
       "      <td>0.068239</td>\n",
       "      <td>0.045871</td>\n",
       "      <td>-0.001318</td>\n",
       "      <td>0.021565</td>\n",
       "      <td>-0.010157</td>\n",
       "      <td>0.008703</td>\n",
       "      <td>-0.011043</td>\n",
       "      <td>-0.013605</td>\n",
       "      <td>-0.015214</td>\n",
       "      <td>0.032304</td>\n",
       "      <td>0.999993</td>\n",
       "    </tr>\n",
       "    <tr>\n",
       "      <th>CustServ_Calls</th>\n",
       "      <td>-0.003796</td>\n",
       "      <td>-0.013263</td>\n",
       "      <td>-0.013423</td>\n",
       "      <td>-0.012985</td>\n",
       "      <td>-0.009288</td>\n",
       "      <td>-0.009640</td>\n",
       "      <td>1.000000</td>\n",
       "      <td>0.208750</td>\n",
       "      <td>-0.024522</td>\n",
       "      <td>-0.017824</td>\n",
       "      <td>-0.018942</td>\n",
       "      <td>-0.013427</td>\n",
       "      <td>0.002423</td>\n",
       "      <td>-0.012987</td>\n",
       "      <td>-0.012802</td>\n",
       "      <td>-0.009277</td>\n",
       "      <td>-0.017561</td>\n",
       "      <td>-0.009675</td>\n",
       "    </tr>\n",
       "    <tr>\n",
       "      <th>Churn</th>\n",
       "      <td>0.016541</td>\n",
       "      <td>-0.089728</td>\n",
       "      <td>0.205151</td>\n",
       "      <td>0.092796</td>\n",
       "      <td>0.035493</td>\n",
       "      <td>0.068239</td>\n",
       "      <td>0.208750</td>\n",
       "      <td>1.000000</td>\n",
       "      <td>0.259852</td>\n",
       "      <td>-0.102148</td>\n",
       "      <td>0.018459</td>\n",
       "      <td>0.205151</td>\n",
       "      <td>0.009233</td>\n",
       "      <td>0.092786</td>\n",
       "      <td>0.006141</td>\n",
       "      <td>0.035496</td>\n",
       "      <td>-0.052844</td>\n",
       "      <td>0.068259</td>\n",
       "    </tr>\n",
       "    <tr>\n",
       "      <th>Intl_Plan</th>\n",
       "      <td>0.024735</td>\n",
       "      <td>0.008745</td>\n",
       "      <td>0.049396</td>\n",
       "      <td>0.019100</td>\n",
       "      <td>-0.028905</td>\n",
       "      <td>0.045871</td>\n",
       "      <td>-0.024522</td>\n",
       "      <td>0.259852</td>\n",
       "      <td>1.000000</td>\n",
       "      <td>0.006006</td>\n",
       "      <td>0.003755</td>\n",
       "      <td>0.049398</td>\n",
       "      <td>0.006114</td>\n",
       "      <td>0.019106</td>\n",
       "      <td>0.012451</td>\n",
       "      <td>-0.028913</td>\n",
       "      <td>0.017366</td>\n",
       "      <td>0.045780</td>\n",
       "    </tr>\n",
       "    <tr>\n",
       "      <th>Vmail_Plan</th>\n",
       "      <td>0.002918</td>\n",
       "      <td>0.956927</td>\n",
       "      <td>-0.001684</td>\n",
       "      <td>0.021545</td>\n",
       "      <td>0.006079</td>\n",
       "      <td>-0.001318</td>\n",
       "      <td>-0.017824</td>\n",
       "      <td>-0.102148</td>\n",
       "      <td>0.006006</td>\n",
       "      <td>1.000000</td>\n",
       "      <td>-0.011086</td>\n",
       "      <td>-0.001686</td>\n",
       "      <td>-0.006444</td>\n",
       "      <td>0.021559</td>\n",
       "      <td>0.015553</td>\n",
       "      <td>0.006064</td>\n",
       "      <td>0.007618</td>\n",
       "      <td>-0.001276</td>\n",
       "    </tr>\n",
       "    <tr>\n",
       "      <th>Day_Calls</th>\n",
       "      <td>0.038470</td>\n",
       "      <td>-0.009548</td>\n",
       "      <td>0.006750</td>\n",
       "      <td>-0.021451</td>\n",
       "      <td>0.022938</td>\n",
       "      <td>0.021565</td>\n",
       "      <td>-0.018942</td>\n",
       "      <td>0.018459</td>\n",
       "      <td>0.003755</td>\n",
       "      <td>-0.011086</td>\n",
       "      <td>1.000000</td>\n",
       "      <td>0.006753</td>\n",
       "      <td>0.006462</td>\n",
       "      <td>-0.021449</td>\n",
       "      <td>-0.019557</td>\n",
       "      <td>0.022927</td>\n",
       "      <td>0.004574</td>\n",
       "      <td>0.021666</td>\n",
       "    </tr>\n",
       "    <tr>\n",
       "      <th>Day_Charge</th>\n",
       "      <td>0.006214</td>\n",
       "      <td>0.000776</td>\n",
       "      <td>1.000000</td>\n",
       "      <td>0.007050</td>\n",
       "      <td>0.004324</td>\n",
       "      <td>-0.010157</td>\n",
       "      <td>-0.013427</td>\n",
       "      <td>0.205151</td>\n",
       "      <td>0.049398</td>\n",
       "      <td>-0.001686</td>\n",
       "      <td>0.006753</td>\n",
       "      <td>1.000000</td>\n",
       "      <td>0.015769</td>\n",
       "      <td>0.007036</td>\n",
       "      <td>0.022972</td>\n",
       "      <td>0.004301</td>\n",
       "      <td>0.008032</td>\n",
       "      <td>-0.010094</td>\n",
       "    </tr>\n",
       "    <tr>\n",
       "      <th>Eve_Calls</th>\n",
       "      <td>0.019260</td>\n",
       "      <td>-0.005864</td>\n",
       "      <td>0.015769</td>\n",
       "      <td>-0.011430</td>\n",
       "      <td>-0.002093</td>\n",
       "      <td>0.008703</td>\n",
       "      <td>0.002423</td>\n",
       "      <td>0.009233</td>\n",
       "      <td>0.006114</td>\n",
       "      <td>-0.006444</td>\n",
       "      <td>0.006462</td>\n",
       "      <td>0.015769</td>\n",
       "      <td>1.000000</td>\n",
       "      <td>-0.011423</td>\n",
       "      <td>0.007710</td>\n",
       "      <td>-0.002056</td>\n",
       "      <td>0.017434</td>\n",
       "      <td>0.008674</td>\n",
       "    </tr>\n",
       "    <tr>\n",
       "      <th>Eve_Charge</th>\n",
       "      <td>-0.006745</td>\n",
       "      <td>0.017578</td>\n",
       "      <td>0.007029</td>\n",
       "      <td>1.000000</td>\n",
       "      <td>-0.012592</td>\n",
       "      <td>-0.011043</td>\n",
       "      <td>-0.012987</td>\n",
       "      <td>0.092786</td>\n",
       "      <td>0.019106</td>\n",
       "      <td>0.021559</td>\n",
       "      <td>-0.021449</td>\n",
       "      <td>0.007036</td>\n",
       "      <td>-0.011423</td>\n",
       "      <td>1.000000</td>\n",
       "      <td>0.007596</td>\n",
       "      <td>-0.012601</td>\n",
       "      <td>0.002541</td>\n",
       "      <td>-0.011074</td>\n",
       "    </tr>\n",
       "    <tr>\n",
       "      <th>Night_Calls</th>\n",
       "      <td>-0.013176</td>\n",
       "      <td>0.007123</td>\n",
       "      <td>0.022972</td>\n",
       "      <td>0.007586</td>\n",
       "      <td>0.011204</td>\n",
       "      <td>-0.013605</td>\n",
       "      <td>-0.012802</td>\n",
       "      <td>0.006141</td>\n",
       "      <td>0.012451</td>\n",
       "      <td>0.015553</td>\n",
       "      <td>-0.019557</td>\n",
       "      <td>0.022972</td>\n",
       "      <td>0.007710</td>\n",
       "      <td>0.007596</td>\n",
       "      <td>1.000000</td>\n",
       "      <td>0.011188</td>\n",
       "      <td>0.000305</td>\n",
       "      <td>-0.013630</td>\n",
       "    </tr>\n",
       "    <tr>\n",
       "      <th>Night_Charge</th>\n",
       "      <td>-0.008960</td>\n",
       "      <td>0.007663</td>\n",
       "      <td>0.004300</td>\n",
       "      <td>-0.012593</td>\n",
       "      <td>0.999999</td>\n",
       "      <td>-0.015214</td>\n",
       "      <td>-0.009277</td>\n",
       "      <td>0.035496</td>\n",
       "      <td>-0.028913</td>\n",
       "      <td>0.006064</td>\n",
       "      <td>0.022927</td>\n",
       "      <td>0.004301</td>\n",
       "      <td>-0.002056</td>\n",
       "      <td>-0.012601</td>\n",
       "      <td>0.011188</td>\n",
       "      <td>1.000000</td>\n",
       "      <td>-0.012329</td>\n",
       "      <td>-0.015186</td>\n",
       "    </tr>\n",
       "    <tr>\n",
       "      <th>Intl_Calls</th>\n",
       "      <td>0.020661</td>\n",
       "      <td>0.013957</td>\n",
       "      <td>0.008033</td>\n",
       "      <td>0.002541</td>\n",
       "      <td>-0.012353</td>\n",
       "      <td>0.032304</td>\n",
       "      <td>-0.017561</td>\n",
       "      <td>-0.052844</td>\n",
       "      <td>0.017366</td>\n",
       "      <td>0.007618</td>\n",
       "      <td>0.004574</td>\n",
       "      <td>0.008032</td>\n",
       "      <td>0.017434</td>\n",
       "      <td>0.002541</td>\n",
       "      <td>0.000305</td>\n",
       "      <td>-0.012329</td>\n",
       "      <td>1.000000</td>\n",
       "      <td>0.032372</td>\n",
       "    </tr>\n",
       "    <tr>\n",
       "      <th>Intl_Charge</th>\n",
       "      <td>0.009546</td>\n",
       "      <td>0.002884</td>\n",
       "      <td>-0.010092</td>\n",
       "      <td>-0.011067</td>\n",
       "      <td>-0.015180</td>\n",
       "      <td>0.999993</td>\n",
       "      <td>-0.009675</td>\n",
       "      <td>0.068259</td>\n",
       "      <td>0.045780</td>\n",
       "      <td>-0.001276</td>\n",
       "      <td>0.021666</td>\n",
       "      <td>-0.010094</td>\n",
       "      <td>0.008674</td>\n",
       "      <td>-0.011074</td>\n",
       "      <td>-0.013630</td>\n",
       "      <td>-0.015186</td>\n",
       "      <td>0.032372</td>\n",
       "      <td>1.000000</td>\n",
       "    </tr>\n",
       "  </tbody>\n",
       "</table>\n",
       "</div>"
      ],
      "text/plain": [
       "                Account_Length  Vmail_Message  Day_Mins  Eve_Mins  Night_Mins  \\\n",
       "Account_Length        1.000000      -0.004628  0.006216 -0.006757   -0.008955   \n",
       "Vmail_Message        -0.004628       1.000000  0.000778  0.017562    0.007681   \n",
       "Day_Mins              0.006216       0.000778  1.000000  0.007043    0.004323   \n",
       "Eve_Mins             -0.006757       0.017562  0.007043  1.000000   -0.012584   \n",
       "Night_Mins           -0.008955       0.007681  0.004323 -0.012584    1.000000   \n",
       "Intl_Mins             0.009514       0.002856 -0.010155 -0.011035   -0.015207   \n",
       "CustServ_Calls       -0.003796      -0.013263 -0.013423 -0.012985   -0.009288   \n",
       "Churn                 0.016541      -0.089728  0.205151  0.092796    0.035493   \n",
       "Intl_Plan             0.024735       0.008745  0.049396  0.019100   -0.028905   \n",
       "Vmail_Plan            0.002918       0.956927 -0.001684  0.021545    0.006079   \n",
       "Day_Calls             0.038470      -0.009548  0.006750 -0.021451    0.022938   \n",
       "Day_Charge            0.006214       0.000776  1.000000  0.007050    0.004324   \n",
       "Eve_Calls             0.019260      -0.005864  0.015769 -0.011430   -0.002093   \n",
       "Eve_Charge           -0.006745       0.017578  0.007029  1.000000   -0.012592   \n",
       "Night_Calls          -0.013176       0.007123  0.022972  0.007586    0.011204   \n",
       "Night_Charge         -0.008960       0.007663  0.004300 -0.012593    0.999999   \n",
       "Intl_Calls            0.020661       0.013957  0.008033  0.002541   -0.012353   \n",
       "Intl_Charge           0.009546       0.002884 -0.010092 -0.011067   -0.015180   \n",
       "\n",
       "                Intl_Mins  CustServ_Calls     Churn  Intl_Plan  Vmail_Plan  \\\n",
       "Account_Length   0.009514       -0.003796  0.016541   0.024735    0.002918   \n",
       "Vmail_Message    0.002856       -0.013263 -0.089728   0.008745    0.956927   \n",
       "Day_Mins        -0.010155       -0.013423  0.205151   0.049396   -0.001684   \n",
       "Eve_Mins        -0.011035       -0.012985  0.092796   0.019100    0.021545   \n",
       "Night_Mins      -0.015207       -0.009288  0.035493  -0.028905    0.006079   \n",
       "Intl_Mins        1.000000       -0.009640  0.068239   0.045871   -0.001318   \n",
       "CustServ_Calls  -0.009640        1.000000  0.208750  -0.024522   -0.017824   \n",
       "Churn            0.068239        0.208750  1.000000   0.259852   -0.102148   \n",
       "Intl_Plan        0.045871       -0.024522  0.259852   1.000000    0.006006   \n",
       "Vmail_Plan      -0.001318       -0.017824 -0.102148   0.006006    1.000000   \n",
       "Day_Calls        0.021565       -0.018942  0.018459   0.003755   -0.011086   \n",
       "Day_Charge      -0.010157       -0.013427  0.205151   0.049398   -0.001686   \n",
       "Eve_Calls        0.008703        0.002423  0.009233   0.006114   -0.006444   \n",
       "Eve_Charge      -0.011043       -0.012987  0.092786   0.019106    0.021559   \n",
       "Night_Calls     -0.013605       -0.012802  0.006141   0.012451    0.015553   \n",
       "Night_Charge    -0.015214       -0.009277  0.035496  -0.028913    0.006064   \n",
       "Intl_Calls       0.032304       -0.017561 -0.052844   0.017366    0.007618   \n",
       "Intl_Charge      0.999993       -0.009675  0.068259   0.045780   -0.001276   \n",
       "\n",
       "                Day_Calls  Day_Charge  Eve_Calls  Eve_Charge  Night_Calls  \\\n",
       "Account_Length   0.038470    0.006214   0.019260   -0.006745    -0.013176   \n",
       "Vmail_Message   -0.009548    0.000776  -0.005864    0.017578     0.007123   \n",
       "Day_Mins         0.006750    1.000000   0.015769    0.007029     0.022972   \n",
       "Eve_Mins        -0.021451    0.007050  -0.011430    1.000000     0.007586   \n",
       "Night_Mins       0.022938    0.004324  -0.002093   -0.012592     0.011204   \n",
       "Intl_Mins        0.021565   -0.010157   0.008703   -0.011043    -0.013605   \n",
       "CustServ_Calls  -0.018942   -0.013427   0.002423   -0.012987    -0.012802   \n",
       "Churn            0.018459    0.205151   0.009233    0.092786     0.006141   \n",
       "Intl_Plan        0.003755    0.049398   0.006114    0.019106     0.012451   \n",
       "Vmail_Plan      -0.011086   -0.001686  -0.006444    0.021559     0.015553   \n",
       "Day_Calls        1.000000    0.006753   0.006462   -0.021449    -0.019557   \n",
       "Day_Charge       0.006753    1.000000   0.015769    0.007036     0.022972   \n",
       "Eve_Calls        0.006462    0.015769   1.000000   -0.011423     0.007710   \n",
       "Eve_Charge      -0.021449    0.007036  -0.011423    1.000000     0.007596   \n",
       "Night_Calls     -0.019557    0.022972   0.007710    0.007596     1.000000   \n",
       "Night_Charge     0.022927    0.004301  -0.002056   -0.012601     0.011188   \n",
       "Intl_Calls       0.004574    0.008032   0.017434    0.002541     0.000305   \n",
       "Intl_Charge      0.021666   -0.010094   0.008674   -0.011074    -0.013630   \n",
       "\n",
       "                Night_Charge  Intl_Calls  Intl_Charge  \n",
       "Account_Length     -0.008960    0.020661     0.009546  \n",
       "Vmail_Message       0.007663    0.013957     0.002884  \n",
       "Day_Mins            0.004300    0.008033    -0.010092  \n",
       "Eve_Mins           -0.012593    0.002541    -0.011067  \n",
       "Night_Mins          0.999999   -0.012353    -0.015180  \n",
       "Intl_Mins          -0.015214    0.032304     0.999993  \n",
       "CustServ_Calls     -0.009277   -0.017561    -0.009675  \n",
       "Churn               0.035496   -0.052844     0.068259  \n",
       "Intl_Plan          -0.028913    0.017366     0.045780  \n",
       "Vmail_Plan          0.006064    0.007618    -0.001276  \n",
       "Day_Calls           0.022927    0.004574     0.021666  \n",
       "Day_Charge          0.004301    0.008032    -0.010094  \n",
       "Eve_Calls          -0.002056    0.017434     0.008674  \n",
       "Eve_Charge         -0.012601    0.002541    -0.011074  \n",
       "Night_Calls         0.011188    0.000305    -0.013630  \n",
       "Night_Charge        1.000000   -0.012329    -0.015186  \n",
       "Intl_Calls         -0.012329    1.000000     0.032372  \n",
       "Intl_Charge        -0.015186    0.032372     1.000000  "
      ]
     },
     "execution_count": 141,
     "metadata": {},
     "output_type": "execute_result"
    }
   ],
   "source": [
    "mydf.corr()"
   ]
  },
  {
   "cell_type": "code",
   "execution_count": 142,
   "metadata": {},
   "outputs": [
    {
     "data": {
      "text/html": [
       "<div>\n",
       "<style scoped>\n",
       "    .dataframe tbody tr th:only-of-type {\n",
       "        vertical-align: middle;\n",
       "    }\n",
       "\n",
       "    .dataframe tbody tr th {\n",
       "        vertical-align: top;\n",
       "    }\n",
       "\n",
       "    .dataframe thead th {\n",
       "        text-align: right;\n",
       "    }\n",
       "</style>\n",
       "<table border=\"1\" class=\"dataframe\">\n",
       "  <thead>\n",
       "    <tr style=\"text-align: right;\">\n",
       "      <th></th>\n",
       "      <th>Account_Length</th>\n",
       "      <th>Vmail_Message</th>\n",
       "      <th>Day_Mins</th>\n",
       "      <th>Eve_Mins</th>\n",
       "      <th>Night_Mins</th>\n",
       "      <th>Intl_Mins</th>\n",
       "      <th>CustServ_Calls</th>\n",
       "      <th>Churn</th>\n",
       "      <th>Intl_Plan</th>\n",
       "      <th>Vmail_Plan</th>\n",
       "      <th>Day_Calls</th>\n",
       "      <th>Day_Charge</th>\n",
       "      <th>Eve_Calls</th>\n",
       "      <th>Eve_Charge</th>\n",
       "      <th>Night_Calls</th>\n",
       "      <th>Night_Charge</th>\n",
       "      <th>Intl_Calls</th>\n",
       "      <th>Intl_Charge</th>\n",
       "    </tr>\n",
       "  </thead>\n",
       "  <tbody>\n",
       "    <tr>\n",
       "      <th>0</th>\n",
       "      <td>128</td>\n",
       "      <td>25</td>\n",
       "      <td>265.1</td>\n",
       "      <td>197.4</td>\n",
       "      <td>244.7</td>\n",
       "      <td>10.0</td>\n",
       "      <td>1</td>\n",
       "      <td>0</td>\n",
       "      <td>0</td>\n",
       "      <td>1</td>\n",
       "      <td>110</td>\n",
       "      <td>45.07</td>\n",
       "      <td>99</td>\n",
       "      <td>16.78</td>\n",
       "      <td>91</td>\n",
       "      <td>11.01</td>\n",
       "      <td>3</td>\n",
       "      <td>2.70</td>\n",
       "    </tr>\n",
       "    <tr>\n",
       "      <th>1</th>\n",
       "      <td>107</td>\n",
       "      <td>26</td>\n",
       "      <td>161.6</td>\n",
       "      <td>195.5</td>\n",
       "      <td>254.4</td>\n",
       "      <td>13.7</td>\n",
       "      <td>1</td>\n",
       "      <td>0</td>\n",
       "      <td>0</td>\n",
       "      <td>1</td>\n",
       "      <td>123</td>\n",
       "      <td>27.47</td>\n",
       "      <td>103</td>\n",
       "      <td>16.62</td>\n",
       "      <td>103</td>\n",
       "      <td>11.45</td>\n",
       "      <td>3</td>\n",
       "      <td>3.70</td>\n",
       "    </tr>\n",
       "    <tr>\n",
       "      <th>2</th>\n",
       "      <td>137</td>\n",
       "      <td>0</td>\n",
       "      <td>243.4</td>\n",
       "      <td>121.2</td>\n",
       "      <td>162.6</td>\n",
       "      <td>12.2</td>\n",
       "      <td>0</td>\n",
       "      <td>0</td>\n",
       "      <td>0</td>\n",
       "      <td>0</td>\n",
       "      <td>114</td>\n",
       "      <td>41.38</td>\n",
       "      <td>110</td>\n",
       "      <td>10.30</td>\n",
       "      <td>104</td>\n",
       "      <td>7.32</td>\n",
       "      <td>5</td>\n",
       "      <td>3.29</td>\n",
       "    </tr>\n",
       "    <tr>\n",
       "      <th>3</th>\n",
       "      <td>84</td>\n",
       "      <td>0</td>\n",
       "      <td>299.4</td>\n",
       "      <td>61.9</td>\n",
       "      <td>196.9</td>\n",
       "      <td>6.6</td>\n",
       "      <td>2</td>\n",
       "      <td>0</td>\n",
       "      <td>1</td>\n",
       "      <td>0</td>\n",
       "      <td>71</td>\n",
       "      <td>50.90</td>\n",
       "      <td>88</td>\n",
       "      <td>5.26</td>\n",
       "      <td>89</td>\n",
       "      <td>8.86</td>\n",
       "      <td>7</td>\n",
       "      <td>1.78</td>\n",
       "    </tr>\n",
       "    <tr>\n",
       "      <th>4</th>\n",
       "      <td>75</td>\n",
       "      <td>0</td>\n",
       "      <td>166.7</td>\n",
       "      <td>148.3</td>\n",
       "      <td>186.9</td>\n",
       "      <td>10.1</td>\n",
       "      <td>3</td>\n",
       "      <td>0</td>\n",
       "      <td>1</td>\n",
       "      <td>0</td>\n",
       "      <td>113</td>\n",
       "      <td>28.34</td>\n",
       "      <td>122</td>\n",
       "      <td>12.61</td>\n",
       "      <td>121</td>\n",
       "      <td>8.41</td>\n",
       "      <td>3</td>\n",
       "      <td>2.73</td>\n",
       "    </tr>\n",
       "  </tbody>\n",
       "</table>\n",
       "</div>"
      ],
      "text/plain": [
       "   Account_Length  Vmail_Message  Day_Mins  Eve_Mins  Night_Mins  Intl_Mins  \\\n",
       "0             128             25     265.1     197.4       244.7       10.0   \n",
       "1             107             26     161.6     195.5       254.4       13.7   \n",
       "2             137              0     243.4     121.2       162.6       12.2   \n",
       "3              84              0     299.4      61.9       196.9        6.6   \n",
       "4              75              0     166.7     148.3       186.9       10.1   \n",
       "\n",
       "   CustServ_Calls  Churn  Intl_Plan  Vmail_Plan  Day_Calls  Day_Charge  \\\n",
       "0               1      0          0           1        110       45.07   \n",
       "1               1      0          0           1        123       27.47   \n",
       "2               0      0          0           0        114       41.38   \n",
       "3               2      0          1           0         71       50.90   \n",
       "4               3      0          1           0        113       28.34   \n",
       "\n",
       "   Eve_Calls  Eve_Charge  Night_Calls  Night_Charge  Intl_Calls  Intl_Charge  \n",
       "0         99       16.78           91         11.01           3         2.70  \n",
       "1        103       16.62          103         11.45           3         3.70  \n",
       "2        110       10.30          104          7.32           5         3.29  \n",
       "3         88        5.26           89          8.86           7         1.78  \n",
       "4        122       12.61          121          8.41           3         2.73  "
      ]
     },
     "execution_count": 142,
     "metadata": {},
     "output_type": "execute_result"
    }
   ],
   "source": [
    "mydf.head()"
   ]
  },
  {
   "cell_type": "code",
   "execution_count": 143,
   "metadata": {},
   "outputs": [
    {
     "data": {
      "text/plain": [
       "0    2.689011\n",
       "1    2.469903\n",
       "2    1.563462\n",
       "3    2.212360\n",
       "4    1.544628\n",
       "Name: Avg_Night_Calls, dtype: float64"
      ]
     },
     "execution_count": 143,
     "metadata": {},
     "output_type": "execute_result"
    }
   ],
   "source": [
    "mydf['Avg_Night_Calls'] = mydf['Night_Mins']/mydf['Night_Calls']\n",
    "mydf['Avg_Night_Calls'].head()"
   ]
  },
  {
   "cell_type": "code",
   "execution_count": 144,
   "metadata": {},
   "outputs": [],
   "source": [
    "### Training model"
   ]
  },
  {
   "cell_type": "code",
   "execution_count": 145,
   "metadata": {},
   "outputs": [],
   "source": [
    "x_features = ['Account_Length', 'Vmail_Message', 'Day_Mins', 'Eve_Mins', 'Night_Mins',\n",
    "       'Intl_Mins', 'CustServ_Calls', 'Intl_Plan', 'Vmail_Plan',\n",
    "       'Day_Calls', 'Day_Charge', 'Eve_Calls', 'Eve_Charge', 'Night_Calls',\n",
    "       'Night_Charge', 'Intl_Calls', 'Intl_Charge', 'Avg_Night_Calls']"
   ]
  },
  {
   "cell_type": "code",
   "execution_count": 183,
   "metadata": {},
   "outputs": [],
   "source": [
    "from sklearn.model_selection import train_test_split\n",
    "from sklearn.metrics import accuracy_score\n",
    "from sklearn.svm import SVC\n",
    "from sklearn.linear_model import LogisticRegression\n",
    "from sklearn.tree import DecisionTreeClassifier\n",
    "from sklearn.ensemble import RandomForestClassifier"
   ]
  },
  {
   "cell_type": "code",
   "execution_count": 176,
   "metadata": {},
   "outputs": [],
   "source": [
    "clf = LogisticRegression()\n",
    "svc = SVC()\n",
    "rfc = RandomForestClassifier()\n"
   ]
  },
  {
   "cell_type": "code",
   "execution_count": 148,
   "metadata": {},
   "outputs": [],
   "source": [
    "X_train, X_test, y_train, y_test = train_test_split(mydf[x_features], mydf['Churn'], test_size = 0.2, random_state = 42)"
   ]
  },
  {
   "cell_type": "code",
   "execution_count": 177,
   "metadata": {},
   "outputs": [
    {
     "name": "stderr",
     "output_type": "stream",
     "text": [
      "/Users/amitmishra/opt/anaconda3/lib/python3.9/site-packages/sklearn/linear_model/_logistic.py:814: ConvergenceWarning: lbfgs failed to converge (status=1):\n",
      "STOP: TOTAL NO. of ITERATIONS REACHED LIMIT.\n",
      "\n",
      "Increase the number of iterations (max_iter) or scale the data as shown in:\n",
      "    https://scikit-learn.org/stable/modules/preprocessing.html\n",
      "Please also refer to the documentation for alternative solver options:\n",
      "    https://scikit-learn.org/stable/modules/linear_model.html#logistic-regression\n",
      "  n_iter_i = _check_optimize_result(\n"
     ]
    }
   ],
   "source": [
    "model_svc = svc.fit(X_train, y_train)\n",
    "model_log = clf.fit(X_train, y_train)\n",
    "model_rfc = rfc.fit(X_train, y_train)"
   ]
  },
  {
   "cell_type": "code",
   "execution_count": 178,
   "metadata": {},
   "outputs": [],
   "source": [
    "y_pred_svc = model_svc.predict(X_test)\n",
    "y_pred_log = model_log.predict(X_test)\n",
    "y_pred_rfc = model_rfc.predict(X_test)"
   ]
  },
  {
   "cell_type": "code",
   "execution_count": 185,
   "metadata": {},
   "outputs": [
    {
     "data": {
      "text/plain": [
       "0.848575712143928"
      ]
     },
     "execution_count": 185,
     "metadata": {},
     "output_type": "execute_result"
    }
   ],
   "source": [
    "accuracy = accuracy_score(y_test, y_pred_svc)\n",
    "accuracy"
   ]
  },
  {
   "cell_type": "code",
   "execution_count": 153,
   "metadata": {},
   "outputs": [],
   "source": [
    "### So our base svm model has an accuracy of almost 85%"
   ]
  },
  {
   "cell_type": "code",
   "execution_count": 154,
   "metadata": {},
   "outputs": [
    {
     "data": {
      "text/plain": [
       "0    2850\n",
       "1     483\n",
       "Name: Churn, dtype: int64"
      ]
     },
     "execution_count": 154,
     "metadata": {},
     "output_type": "execute_result"
    }
   ],
   "source": [
    "mydf['Churn'].value_counts()"
   ]
  },
  {
   "cell_type": "code",
   "execution_count": 155,
   "metadata": {},
   "outputs": [],
   "source": [
    "#Considering our imbalanced class, accuracy is not a useful metric. If we were to buld a classifier that checks non-churn, it would be accurate. But it would fail\n",
    "#to predict customers who would churn. "
   ]
  },
  {
   "cell_type": "code",
   "execution_count": null,
   "metadata": {},
   "outputs": [],
   "source": [
    "#Precision = TP/(TP+FP) i.e correctly classified churners divided by total number of customers classified as churners\n",
    "#A high precisions means our model didn't have a lot of false positives (or not many non-churners were classified as churners)\n"
   ]
  },
  {
   "cell_type": "code",
   "execution_count": 156,
   "metadata": {},
   "outputs": [],
   "source": [
    "#Recall or sensitivity = TN/(TN+FN)\n",
    "#A high recall means the model correctly classified the non-churners "
   ]
  },
  {
   "cell_type": "code",
   "execution_count": 157,
   "metadata": {},
   "outputs": [
    {
     "data": {
      "text/plain": [
       "\"Business case: If the offers you make to keep potential churners is high in relation to the value of losing customers,\\nyou want your model to have high precision or minimize false positives. \\nConversely, if losing customers you didn't think would churn is more expensive than an offer to keep a customer that would not have churned,\\nthen you want a high recall or minimize false negatives. \\nBoth recall and precision are far more valuable than just looking at accuracy. \""
      ]
     },
     "execution_count": 157,
     "metadata": {},
     "output_type": "execute_result"
    }
   ],
   "source": [
    "'''Business case: If the offers you make to keep potential churners is high in relation to the value of losing customers,\n",
    "you want your model to have high precision or minimize false positives. \n",
    "Conversely, if losing customers you didn't think would churn is more expensive than an offer to keep a customer that would not have churned,\n",
    "then you want a high recall or minimize false negatives. \n",
    "Both recall and precision are far more valuable than just looking at accuracy. '''"
   ]
  },
  {
   "cell_type": "code",
   "execution_count": 158,
   "metadata": {},
   "outputs": [],
   "source": [
    "from sklearn.metrics import confusion_matrix"
   ]
  },
  {
   "cell_type": "code",
   "execution_count": 179,
   "metadata": {},
   "outputs": [
    {
     "name": "stdout",
     "output_type": "stream",
     "text": [
      "Confusion matrix for support vector classification is:\n",
      " [[566   0]\n",
      " [101   0]]\n",
      "Confusion matrix for logistic regression classification is:\n",
      " [[562   4]\n",
      " [ 98   3]]\n",
      "Confusion matrix for random forest classifier is:\n",
      " [[562   4]\n",
      " [ 28  73]]\n"
     ]
    }
   ],
   "source": [
    "cm_svc = confusion_matrix(y_test, y_pred_svc)\n",
    "cm_log = confusion_matrix(y_test,y_pred_log)\n",
    "cm_rfc = confusion_matrix(y_test,y_pred_rfc)\n",
    "print(f\"Confusion matrix for support vector classification is:\\n {cm_svc}\")\n",
    "print(f\"Confusion matrix for logistic regression classification is:\\n {cm_log}\")\n",
    "print(f\"Confusion matrix for random forest classifier is:\\n {cm_rfc}\")"
   ]
  },
  {
   "cell_type": "code",
   "execution_count": null,
   "metadata": {},
   "outputs": [],
   "source": []
  }
 ],
 "metadata": {
  "kernelspec": {
   "display_name": "base",
   "language": "python",
   "name": "python3"
  },
  "language_info": {
   "codemirror_mode": {
    "name": "ipython",
    "version": 3
   },
   "file_extension": ".py",
   "mimetype": "text/x-python",
   "name": "python",
   "nbconvert_exporter": "python",
   "pygments_lexer": "ipython3",
   "version": "3.9.13"
  },
  "orig_nbformat": 4
 },
 "nbformat": 4,
 "nbformat_minor": 2
}
